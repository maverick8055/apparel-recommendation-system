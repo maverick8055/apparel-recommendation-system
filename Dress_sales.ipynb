{
  "nbformat": 4,
  "nbformat_minor": 0,
  "metadata": {
    "colab": {
      "name": "Dress_sales.ipynb",
      "provenance": [],
      "collapsed_sections": []
    },
    "kernelspec": {
      "name": "python3",
      "display_name": "Python 3"
    },
    "language_info": {
      "name": "python"
    }
  },
  "cells": [
    {
      "cell_type": "code",
      "metadata": {
        "id": "61ktjKw4l0tV"
      },
      "source": [
        "import pandas as pd\n",
        "import numpy as np\n",
        "import matplotlib.pyplot as plt\n",
        "import seaborn as sns"
      ],
      "execution_count": 2,
      "outputs": []
    },
    {
      "cell_type": "markdown",
      "metadata": {
        "id": "o1E-PXqgv17_"
      },
      "source": [
        "##Creating dataframe of data"
      ]
    },
    {
      "cell_type": "code",
      "metadata": {
        "id": "8_qI4cGclQqW"
      },
      "source": [
        "ad = pd.read_csv(\"/content/Attribute DataSet.csv\")\n",
        "ds = pd.read_csv(\"/content/Dress Sales.csv\")"
      ],
      "execution_count": 3,
      "outputs": []
    },
    {
      "cell_type": "markdown",
      "metadata": {
        "id": "dDP7l-z_v6b1"
      },
      "source": [
        "##Removing rows with same dress ID"
      ]
    },
    {
      "cell_type": "code",
      "metadata": {
        "id": "H5U5nPVRlyJy"
      },
      "source": [
        "ds = ds.drop_duplicates(subset='Dress_ID', keep='first')"
      ],
      "execution_count": 4,
      "outputs": []
    },
    {
      "cell_type": "code",
      "metadata": {
        "colab": {
          "base_uri": "https://localhost:8080/"
        },
        "id": "28yiflGGl8Eu",
        "outputId": "c2cc34ae-ad54-48b1-826a-f12578a09c21"
      },
      "source": [
        "ds.shape"
      ],
      "execution_count": 6,
      "outputs": [
        {
          "output_type": "execute_result",
          "data": {
            "text/plain": [
              "(475, 24)"
            ]
          },
          "metadata": {
            "tags": []
          },
          "execution_count": 6
        }
      ]
    },
    {
      "cell_type": "markdown",
      "metadata": {
        "id": "imPgG9_twAbd"
      },
      "source": [
        "##Setting Dress_ID as index"
      ]
    },
    {
      "cell_type": "code",
      "metadata": {
        "id": "0L7gN7f4masd"
      },
      "source": [
        "ds.set_index('Dress_ID',inplace = True)"
      ],
      "execution_count": 12,
      "outputs": []
    },
    {
      "cell_type": "code",
      "metadata": {
        "id": "HTyr5Ovwl9JS"
      },
      "source": [
        "ds['sum'] = ds.sum(axis = 1 , skipna = True)"
      ],
      "execution_count": 16,
      "outputs": []
    },
    {
      "cell_type": "code",
      "metadata": {
        "colab": {
          "base_uri": "https://localhost:8080/",
          "height": 254
        },
        "id": "jUqZLR-_mPYg",
        "outputId": "1b10295f-468b-4bff-ae51-b1c4187bc1d6"
      },
      "source": [
        "ds.head()"
      ],
      "execution_count": 17,
      "outputs": [
        {
          "output_type": "execute_result",
          "data": {
            "text/html": [
              "<div>\n",
              "<style scoped>\n",
              "    .dataframe tbody tr th:only-of-type {\n",
              "        vertical-align: middle;\n",
              "    }\n",
              "\n",
              "    .dataframe tbody tr th {\n",
              "        vertical-align: top;\n",
              "    }\n",
              "\n",
              "    .dataframe thead th {\n",
              "        text-align: right;\n",
              "    }\n",
              "</style>\n",
              "<table border=\"1\" class=\"dataframe\">\n",
              "  <thead>\n",
              "    <tr style=\"text-align: right;\">\n",
              "      <th></th>\n",
              "      <th>29/8/2013</th>\n",
              "      <th>31/8/2013</th>\n",
              "      <th>2/9/2013</th>\n",
              "      <th>4/9/2013</th>\n",
              "      <th>6/9/2013</th>\n",
              "      <th>8/9/2013</th>\n",
              "      <th>10/9/2013</th>\n",
              "      <th>12/9/2013</th>\n",
              "      <th>14/9/2013</th>\n",
              "      <th>16/9/2013</th>\n",
              "      <th>18/9/2013</th>\n",
              "      <th>20/9/2013</th>\n",
              "      <th>22/9/2013</th>\n",
              "      <th>24/9/2013</th>\n",
              "      <th>26/9/2013</th>\n",
              "      <th>28/9/2013</th>\n",
              "      <th>30/9/2013</th>\n",
              "      <th>2/10/2013</th>\n",
              "      <th>4/10/2013</th>\n",
              "      <th>6/10/2013</th>\n",
              "      <th>8/10/2010</th>\n",
              "      <th>10/10/2013</th>\n",
              "      <th>12/10/2013</th>\n",
              "      <th>sum</th>\n",
              "    </tr>\n",
              "    <tr>\n",
              "      <th>Dress_ID</th>\n",
              "      <th></th>\n",
              "      <th></th>\n",
              "      <th></th>\n",
              "      <th></th>\n",
              "      <th></th>\n",
              "      <th></th>\n",
              "      <th></th>\n",
              "      <th></th>\n",
              "      <th></th>\n",
              "      <th></th>\n",
              "      <th></th>\n",
              "      <th></th>\n",
              "      <th></th>\n",
              "      <th></th>\n",
              "      <th></th>\n",
              "      <th></th>\n",
              "      <th></th>\n",
              "      <th></th>\n",
              "      <th></th>\n",
              "      <th></th>\n",
              "      <th></th>\n",
              "      <th></th>\n",
              "      <th></th>\n",
              "      <th></th>\n",
              "    </tr>\n",
              "  </thead>\n",
              "  <tbody>\n",
              "    <tr>\n",
              "      <th>1006032852</th>\n",
              "      <td>2114</td>\n",
              "      <td>2274</td>\n",
              "      <td>2491</td>\n",
              "      <td>2660</td>\n",
              "      <td>2727</td>\n",
              "      <td>2887</td>\n",
              "      <td>2930</td>\n",
              "      <td>3119</td>\n",
              "      <td>3204</td>\n",
              "      <td>3277</td>\n",
              "      <td>3321</td>\n",
              "      <td>3386</td>\n",
              "      <td>3479</td>\n",
              "      <td>3554</td>\n",
              "      <td>3624.0</td>\n",
              "      <td>3706</td>\n",
              "      <td>3746.0</td>\n",
              "      <td>3795.0</td>\n",
              "      <td>3832.0</td>\n",
              "      <td>3897</td>\n",
              "      <td>3923.0</td>\n",
              "      <td>3985.0</td>\n",
              "      <td>4048</td>\n",
              "      <td>56193.0</td>\n",
              "    </tr>\n",
              "    <tr>\n",
              "      <th>1212192089</th>\n",
              "      <td>151</td>\n",
              "      <td>275</td>\n",
              "      <td>570</td>\n",
              "      <td>750</td>\n",
              "      <td>813</td>\n",
              "      <td>1066</td>\n",
              "      <td>1164</td>\n",
              "      <td>1558</td>\n",
              "      <td>1756</td>\n",
              "      <td>1878</td>\n",
              "      <td>1985</td>\n",
              "      <td>2106</td>\n",
              "      <td>2454</td>\n",
              "      <td>2710</td>\n",
              "      <td>2942.0</td>\n",
              "      <td>3258</td>\n",
              "      <td>3354.0</td>\n",
              "      <td>3475.0</td>\n",
              "      <td>3654.0</td>\n",
              "      <td>3911</td>\n",
              "      <td>4024.0</td>\n",
              "      <td>4125.0</td>\n",
              "      <td>4277</td>\n",
              "      <td>40519.0</td>\n",
              "    </tr>\n",
              "    <tr>\n",
              "      <th>1190380701</th>\n",
              "      <td>6</td>\n",
              "      <td>7</td>\n",
              "      <td>7</td>\n",
              "      <td>7</td>\n",
              "      <td>8</td>\n",
              "      <td>8</td>\n",
              "      <td>9</td>\n",
              "      <td>10</td>\n",
              "      <td>10</td>\n",
              "      <td>10</td>\n",
              "      <td>10</td>\n",
              "      <td>10</td>\n",
              "      <td>11</td>\n",
              "      <td>11</td>\n",
              "      <td>11.0</td>\n",
              "      <td>11</td>\n",
              "      <td>11.0</td>\n",
              "      <td>11.0</td>\n",
              "      <td>11.0</td>\n",
              "      <td>11</td>\n",
              "      <td>11.0</td>\n",
              "      <td>11.0</td>\n",
              "      <td>11</td>\n",
              "      <td>162.0</td>\n",
              "    </tr>\n",
              "    <tr>\n",
              "      <th>966005983</th>\n",
              "      <td>1005</td>\n",
              "      <td>1128</td>\n",
              "      <td>1326</td>\n",
              "      <td>1455</td>\n",
              "      <td>1507</td>\n",
              "      <td>1621</td>\n",
              "      <td>1637</td>\n",
              "      <td>1723</td>\n",
              "      <td>1746</td>\n",
              "      <td>1783</td>\n",
              "      <td>1796</td>\n",
              "      <td>1812</td>\n",
              "      <td>1845</td>\n",
              "      <td>1878</td>\n",
              "      <td>1892.0</td>\n",
              "      <td>1914</td>\n",
              "      <td>1924.0</td>\n",
              "      <td>1929.0</td>\n",
              "      <td>1941.0</td>\n",
              "      <td>1952</td>\n",
              "      <td>1955.0</td>\n",
              "      <td>1959.0</td>\n",
              "      <td>1963</td>\n",
              "      <td>28986.0</td>\n",
              "    </tr>\n",
              "    <tr>\n",
              "      <th>876339541</th>\n",
              "      <td>996</td>\n",
              "      <td>1175</td>\n",
              "      <td>1304</td>\n",
              "      <td>1396</td>\n",
              "      <td>1432</td>\n",
              "      <td>1559</td>\n",
              "      <td>1570</td>\n",
              "      <td>1638</td>\n",
              "      <td>1655</td>\n",
              "      <td>1681</td>\n",
              "      <td>1743</td>\n",
              "      <td>1824</td>\n",
              "      <td>1919</td>\n",
              "      <td>2032</td>\n",
              "      <td>2156.0</td>\n",
              "      <td>2252</td>\n",
              "      <td>2312.0</td>\n",
              "      <td>2387.0</td>\n",
              "      <td>2459.0</td>\n",
              "      <td>2544</td>\n",
              "      <td>2614.0</td>\n",
              "      <td>2693.0</td>\n",
              "      <td>2736</td>\n",
              "      <td>33617.0</td>\n",
              "    </tr>\n",
              "  </tbody>\n",
              "</table>\n",
              "</div>"
            ],
            "text/plain": [
              "            29/8/2013  31/8/2013  2/9/2013  ...  10/10/2013  12/10/2013      sum\n",
              "Dress_ID                                    ...                                 \n",
              "1006032852       2114       2274      2491  ...      3985.0        4048  56193.0\n",
              "1212192089        151        275       570  ...      4125.0        4277  40519.0\n",
              "1190380701          6          7         7  ...        11.0          11    162.0\n",
              "966005983        1005       1128      1326  ...      1959.0        1963  28986.0\n",
              "876339541         996       1175      1304  ...      2693.0        2736  33617.0\n",
              "\n",
              "[5 rows x 24 columns]"
            ]
          },
          "metadata": {
            "tags": []
          },
          "execution_count": 17
        }
      ]
    },
    {
      "cell_type": "code",
      "metadata": {
        "id": "A-JHDYiun6zz"
      },
      "source": [
        "ds1 = pd.read_csv(\"/content/Dress Sales.csv\")"
      ],
      "execution_count": 20,
      "outputs": []
    },
    {
      "cell_type": "code",
      "metadata": {
        "colab": {
          "base_uri": "https://localhost:8080/"
        },
        "id": "JU5dFAKUnON9",
        "outputId": "c576ff3c-1eda-455a-b6a2-6f94033698f3"
      },
      "source": [
        "is_NaN = ds.isnull()\n",
        "row_has_NaN = is_NaN.any(axis=1)\n",
        "rows_with_NaN = ds[row_has_NaN]\n",
        "print(rows_with_NaN)"
      ],
      "execution_count": 30,
      "outputs": [
        {
          "output_type": "stream",
          "text": [
            "Empty DataFrame\n",
            "Columns: [29/8/2013, 31/8/2013, 2/9/2013, 4/9/2013, 6/9/2013, 8/9/2013, 10/9/2013, 12/9/2013, 14/9/2013, 16/9/2013, 18/9/2013, 20/9/2013, 22/9/2013, 24/9/2013, 26/9/2013, 28/9/2013, 30/9/2013, 2/10/2013, 4/10/2013, 6/10/2013, 8/10/2010, 10/10/2013, 12/10/2013, sum]\n",
            "Index: []\n"
          ],
          "name": "stdout"
        }
      ]
    },
    {
      "cell_type": "markdown",
      "metadata": {
        "id": "1PlxCZJZwHRF"
      },
      "source": [
        "##Filling NaN values "
      ]
    },
    {
      "cell_type": "markdown",
      "metadata": {
        "id": "DSqN75w3wK-H"
      },
      "source": [
        "Filled Null values in each row with avg sales of the dress"
      ]
    },
    {
      "cell_type": "code",
      "metadata": {
        "id": "Pqo2IlDznlX3"
      },
      "source": [
        "for i in row_has_NaN.index:\n",
        "  ds.loc[i] = ds.loc[i].fillna(value = ds.loc[i]['sum']/17)"
      ],
      "execution_count": 26,
      "outputs": []
    },
    {
      "cell_type": "code",
      "metadata": {
        "colab": {
          "base_uri": "https://localhost:8080/",
          "height": 254
        },
        "id": "IJTGUK1gn28T",
        "outputId": "f3cfc7e7-0059-443c-ffac-13bcd129e707"
      },
      "source": [
        "ds.head()"
      ],
      "execution_count": 27,
      "outputs": [
        {
          "output_type": "execute_result",
          "data": {
            "text/html": [
              "<div>\n",
              "<style scoped>\n",
              "    .dataframe tbody tr th:only-of-type {\n",
              "        vertical-align: middle;\n",
              "    }\n",
              "\n",
              "    .dataframe tbody tr th {\n",
              "        vertical-align: top;\n",
              "    }\n",
              "\n",
              "    .dataframe thead th {\n",
              "        text-align: right;\n",
              "    }\n",
              "</style>\n",
              "<table border=\"1\" class=\"dataframe\">\n",
              "  <thead>\n",
              "    <tr style=\"text-align: right;\">\n",
              "      <th></th>\n",
              "      <th>29/8/2013</th>\n",
              "      <th>31/8/2013</th>\n",
              "      <th>2/9/2013</th>\n",
              "      <th>4/9/2013</th>\n",
              "      <th>6/9/2013</th>\n",
              "      <th>8/9/2013</th>\n",
              "      <th>10/9/2013</th>\n",
              "      <th>12/9/2013</th>\n",
              "      <th>14/9/2013</th>\n",
              "      <th>16/9/2013</th>\n",
              "      <th>18/9/2013</th>\n",
              "      <th>20/9/2013</th>\n",
              "      <th>22/9/2013</th>\n",
              "      <th>24/9/2013</th>\n",
              "      <th>26/9/2013</th>\n",
              "      <th>28/9/2013</th>\n",
              "      <th>30/9/2013</th>\n",
              "      <th>2/10/2013</th>\n",
              "      <th>4/10/2013</th>\n",
              "      <th>6/10/2013</th>\n",
              "      <th>8/10/2010</th>\n",
              "      <th>10/10/2013</th>\n",
              "      <th>12/10/2013</th>\n",
              "      <th>sum</th>\n",
              "    </tr>\n",
              "    <tr>\n",
              "      <th>Dress_ID</th>\n",
              "      <th></th>\n",
              "      <th></th>\n",
              "      <th></th>\n",
              "      <th></th>\n",
              "      <th></th>\n",
              "      <th></th>\n",
              "      <th></th>\n",
              "      <th></th>\n",
              "      <th></th>\n",
              "      <th></th>\n",
              "      <th></th>\n",
              "      <th></th>\n",
              "      <th></th>\n",
              "      <th></th>\n",
              "      <th></th>\n",
              "      <th></th>\n",
              "      <th></th>\n",
              "      <th></th>\n",
              "      <th></th>\n",
              "      <th></th>\n",
              "      <th></th>\n",
              "      <th></th>\n",
              "      <th></th>\n",
              "      <th></th>\n",
              "    </tr>\n",
              "  </thead>\n",
              "  <tbody>\n",
              "    <tr>\n",
              "      <th>1006032852</th>\n",
              "      <td>2114</td>\n",
              "      <td>2274</td>\n",
              "      <td>2491</td>\n",
              "      <td>2660</td>\n",
              "      <td>2727</td>\n",
              "      <td>2887</td>\n",
              "      <td>2930</td>\n",
              "      <td>3119</td>\n",
              "      <td>3204</td>\n",
              "      <td>3277</td>\n",
              "      <td>3321</td>\n",
              "      <td>3386</td>\n",
              "      <td>3479</td>\n",
              "      <td>3554</td>\n",
              "      <td>3624.0</td>\n",
              "      <td>3706</td>\n",
              "      <td>3746.0</td>\n",
              "      <td>3795.0</td>\n",
              "      <td>3832.0</td>\n",
              "      <td>3897</td>\n",
              "      <td>3923.0</td>\n",
              "      <td>3985.0</td>\n",
              "      <td>4048</td>\n",
              "      <td>56193.0</td>\n",
              "    </tr>\n",
              "    <tr>\n",
              "      <th>1212192089</th>\n",
              "      <td>151</td>\n",
              "      <td>275</td>\n",
              "      <td>570</td>\n",
              "      <td>750</td>\n",
              "      <td>813</td>\n",
              "      <td>1066</td>\n",
              "      <td>1164</td>\n",
              "      <td>1558</td>\n",
              "      <td>1756</td>\n",
              "      <td>1878</td>\n",
              "      <td>1985</td>\n",
              "      <td>2106</td>\n",
              "      <td>2454</td>\n",
              "      <td>2710</td>\n",
              "      <td>2942.0</td>\n",
              "      <td>3258</td>\n",
              "      <td>3354.0</td>\n",
              "      <td>3475.0</td>\n",
              "      <td>3654.0</td>\n",
              "      <td>3911</td>\n",
              "      <td>4024.0</td>\n",
              "      <td>4125.0</td>\n",
              "      <td>4277</td>\n",
              "      <td>40519.0</td>\n",
              "    </tr>\n",
              "    <tr>\n",
              "      <th>1190380701</th>\n",
              "      <td>6</td>\n",
              "      <td>7</td>\n",
              "      <td>7</td>\n",
              "      <td>7</td>\n",
              "      <td>8</td>\n",
              "      <td>8</td>\n",
              "      <td>9</td>\n",
              "      <td>10</td>\n",
              "      <td>10</td>\n",
              "      <td>10</td>\n",
              "      <td>10</td>\n",
              "      <td>10</td>\n",
              "      <td>11</td>\n",
              "      <td>11</td>\n",
              "      <td>11.0</td>\n",
              "      <td>11</td>\n",
              "      <td>11.0</td>\n",
              "      <td>11.0</td>\n",
              "      <td>11.0</td>\n",
              "      <td>11</td>\n",
              "      <td>11.0</td>\n",
              "      <td>11.0</td>\n",
              "      <td>11</td>\n",
              "      <td>162.0</td>\n",
              "    </tr>\n",
              "    <tr>\n",
              "      <th>966005983</th>\n",
              "      <td>1005</td>\n",
              "      <td>1128</td>\n",
              "      <td>1326</td>\n",
              "      <td>1455</td>\n",
              "      <td>1507</td>\n",
              "      <td>1621</td>\n",
              "      <td>1637</td>\n",
              "      <td>1723</td>\n",
              "      <td>1746</td>\n",
              "      <td>1783</td>\n",
              "      <td>1796</td>\n",
              "      <td>1812</td>\n",
              "      <td>1845</td>\n",
              "      <td>1878</td>\n",
              "      <td>1892.0</td>\n",
              "      <td>1914</td>\n",
              "      <td>1924.0</td>\n",
              "      <td>1929.0</td>\n",
              "      <td>1941.0</td>\n",
              "      <td>1952</td>\n",
              "      <td>1955.0</td>\n",
              "      <td>1959.0</td>\n",
              "      <td>1963</td>\n",
              "      <td>28986.0</td>\n",
              "    </tr>\n",
              "    <tr>\n",
              "      <th>876339541</th>\n",
              "      <td>996</td>\n",
              "      <td>1175</td>\n",
              "      <td>1304</td>\n",
              "      <td>1396</td>\n",
              "      <td>1432</td>\n",
              "      <td>1559</td>\n",
              "      <td>1570</td>\n",
              "      <td>1638</td>\n",
              "      <td>1655</td>\n",
              "      <td>1681</td>\n",
              "      <td>1743</td>\n",
              "      <td>1824</td>\n",
              "      <td>1919</td>\n",
              "      <td>2032</td>\n",
              "      <td>2156.0</td>\n",
              "      <td>2252</td>\n",
              "      <td>2312.0</td>\n",
              "      <td>2387.0</td>\n",
              "      <td>2459.0</td>\n",
              "      <td>2544</td>\n",
              "      <td>2614.0</td>\n",
              "      <td>2693.0</td>\n",
              "      <td>2736</td>\n",
              "      <td>33617.0</td>\n",
              "    </tr>\n",
              "  </tbody>\n",
              "</table>\n",
              "</div>"
            ],
            "text/plain": [
              "            29/8/2013  31/8/2013  2/9/2013  ...  10/10/2013  12/10/2013      sum\n",
              "Dress_ID                                    ...                                 \n",
              "1006032852       2114       2274      2491  ...      3985.0        4048  56193.0\n",
              "1212192089        151        275       570  ...      4125.0        4277  40519.0\n",
              "1190380701          6          7         7  ...        11.0          11    162.0\n",
              "966005983        1005       1128      1326  ...      1959.0        1963  28986.0\n",
              "876339541         996       1175      1304  ...      2693.0        2736  33617.0\n",
              "\n",
              "[5 rows x 24 columns]"
            ]
          },
          "metadata": {
            "tags": []
          },
          "execution_count": 27
        }
      ]
    },
    {
      "cell_type": "code",
      "metadata": {
        "id": "4NqdSgoXoIbx"
      },
      "source": [
        "ds.drop(columns=['sum'],axis = 1, inplace = True)"
      ],
      "execution_count": 28,
      "outputs": []
    },
    {
      "cell_type": "code",
      "metadata": {
        "id": "dYGvT_faoosq"
      },
      "source": [
        "ds['sum'] = ds.sum(axis = 1 , skipna = True)"
      ],
      "execution_count": 29,
      "outputs": []
    },
    {
      "cell_type": "code",
      "metadata": {
        "id": "OVRMENt_ossJ"
      },
      "source": [
        "ad = ad.drop_duplicates(subset='Dress_ID', keep='first')"
      ],
      "execution_count": 31,
      "outputs": []
    },
    {
      "cell_type": "code",
      "metadata": {
        "colab": {
          "base_uri": "https://localhost:8080/"
        },
        "id": "oHn5l477pFI8",
        "outputId": "52c20cc1-aa2e-44d9-cccf-3c724b011820"
      },
      "source": [
        "ad.shape"
      ],
      "execution_count": 32,
      "outputs": [
        {
          "output_type": "execute_result",
          "data": {
            "text/plain": [
              "(475, 14)"
            ]
          },
          "metadata": {
            "tags": []
          },
          "execution_count": 32
        }
      ]
    },
    {
      "cell_type": "code",
      "metadata": {
        "id": "HIxVpPQlpQyR"
      },
      "source": [
        "ad.set_index('Dress_ID',inplace = True)"
      ],
      "execution_count": 35,
      "outputs": []
    },
    {
      "cell_type": "code",
      "metadata": {
        "colab": {
          "base_uri": "https://localhost:8080/"
        },
        "id": "jqsoPA-ZpGb2",
        "outputId": "8c635e10-ad4b-4d94-c1c3-84240ef8cc43"
      },
      "source": [
        "ad['sum'] = ds['sum']"
      ],
      "execution_count": 36,
      "outputs": [
        {
          "output_type": "stream",
          "text": [
            "/usr/local/lib/python3.7/dist-packages/ipykernel_launcher.py:1: SettingWithCopyWarning: \n",
            "A value is trying to be set on a copy of a slice from a DataFrame.\n",
            "Try using .loc[row_indexer,col_indexer] = value instead\n",
            "\n",
            "See the caveats in the documentation: https://pandas.pydata.org/pandas-docs/stable/user_guide/indexing.html#returning-a-view-versus-a-copy\n",
            "  \"\"\"Entry point for launching an IPython kernel.\n"
          ],
          "name": "stderr"
        }
      ]
    },
    {
      "cell_type": "markdown",
      "metadata": {
        "id": "7d-yGLP1whqt"
      },
      "source": [
        "##Cleaning attributes dataset"
      ]
    },
    {
      "cell_type": "code",
      "metadata": {
        "colab": {
          "base_uri": "https://localhost:8080/",
          "height": 234
        },
        "id": "USljM3SHpJx_",
        "outputId": "872c0ba0-08af-416c-e6bc-d9194057398b"
      },
      "source": [
        "ad.head()"
      ],
      "execution_count": 37,
      "outputs": [
        {
          "output_type": "execute_result",
          "data": {
            "text/html": [
              "<div>\n",
              "<style scoped>\n",
              "    .dataframe tbody tr th:only-of-type {\n",
              "        vertical-align: middle;\n",
              "    }\n",
              "\n",
              "    .dataframe tbody tr th {\n",
              "        vertical-align: top;\n",
              "    }\n",
              "\n",
              "    .dataframe thead th {\n",
              "        text-align: right;\n",
              "    }\n",
              "</style>\n",
              "<table border=\"1\" class=\"dataframe\">\n",
              "  <thead>\n",
              "    <tr style=\"text-align: right;\">\n",
              "      <th></th>\n",
              "      <th>Style</th>\n",
              "      <th>Price</th>\n",
              "      <th>Rating</th>\n",
              "      <th>Size</th>\n",
              "      <th>Season</th>\n",
              "      <th>NeckLine</th>\n",
              "      <th>SleeveLength</th>\n",
              "      <th>waiseline</th>\n",
              "      <th>Material</th>\n",
              "      <th>FabricType</th>\n",
              "      <th>Decoration</th>\n",
              "      <th>Pattern Type</th>\n",
              "      <th>Recommendation</th>\n",
              "      <th>sum</th>\n",
              "    </tr>\n",
              "    <tr>\n",
              "      <th>Dress_ID</th>\n",
              "      <th></th>\n",
              "      <th></th>\n",
              "      <th></th>\n",
              "      <th></th>\n",
              "      <th></th>\n",
              "      <th></th>\n",
              "      <th></th>\n",
              "      <th></th>\n",
              "      <th></th>\n",
              "      <th></th>\n",
              "      <th></th>\n",
              "      <th></th>\n",
              "      <th></th>\n",
              "      <th></th>\n",
              "    </tr>\n",
              "  </thead>\n",
              "  <tbody>\n",
              "    <tr>\n",
              "      <th>1006032852</th>\n",
              "      <td>Sexy</td>\n",
              "      <td>Low</td>\n",
              "      <td>4.6</td>\n",
              "      <td>M</td>\n",
              "      <td>Summer</td>\n",
              "      <td>o-neck</td>\n",
              "      <td>sleevless</td>\n",
              "      <td>empire</td>\n",
              "      <td>NaN</td>\n",
              "      <td>chiffon</td>\n",
              "      <td>ruffles</td>\n",
              "      <td>animal</td>\n",
              "      <td>1</td>\n",
              "      <td>56193.0</td>\n",
              "    </tr>\n",
              "    <tr>\n",
              "      <th>1212192089</th>\n",
              "      <td>Casual</td>\n",
              "      <td>Low</td>\n",
              "      <td>0.0</td>\n",
              "      <td>L</td>\n",
              "      <td>Summer</td>\n",
              "      <td>o-neck</td>\n",
              "      <td>Petal</td>\n",
              "      <td>natural</td>\n",
              "      <td>microfiber</td>\n",
              "      <td>NaN</td>\n",
              "      <td>ruffles</td>\n",
              "      <td>animal</td>\n",
              "      <td>0</td>\n",
              "      <td>40519.0</td>\n",
              "    </tr>\n",
              "    <tr>\n",
              "      <th>1190380701</th>\n",
              "      <td>vintage</td>\n",
              "      <td>High</td>\n",
              "      <td>0.0</td>\n",
              "      <td>L</td>\n",
              "      <td>Automn</td>\n",
              "      <td>o-neck</td>\n",
              "      <td>full</td>\n",
              "      <td>natural</td>\n",
              "      <td>polyster</td>\n",
              "      <td>NaN</td>\n",
              "      <td>NaN</td>\n",
              "      <td>print</td>\n",
              "      <td>0</td>\n",
              "      <td>162.0</td>\n",
              "    </tr>\n",
              "    <tr>\n",
              "      <th>966005983</th>\n",
              "      <td>Brief</td>\n",
              "      <td>Average</td>\n",
              "      <td>4.6</td>\n",
              "      <td>L</td>\n",
              "      <td>Spring</td>\n",
              "      <td>o-neck</td>\n",
              "      <td>full</td>\n",
              "      <td>natural</td>\n",
              "      <td>silk</td>\n",
              "      <td>chiffon</td>\n",
              "      <td>embroidary</td>\n",
              "      <td>print</td>\n",
              "      <td>1</td>\n",
              "      <td>28986.0</td>\n",
              "    </tr>\n",
              "    <tr>\n",
              "      <th>876339541</th>\n",
              "      <td>cute</td>\n",
              "      <td>Low</td>\n",
              "      <td>4.5</td>\n",
              "      <td>M</td>\n",
              "      <td>Summer</td>\n",
              "      <td>o-neck</td>\n",
              "      <td>butterfly</td>\n",
              "      <td>natural</td>\n",
              "      <td>chiffonfabric</td>\n",
              "      <td>chiffon</td>\n",
              "      <td>bow</td>\n",
              "      <td>dot</td>\n",
              "      <td>0</td>\n",
              "      <td>33617.0</td>\n",
              "    </tr>\n",
              "  </tbody>\n",
              "</table>\n",
              "</div>"
            ],
            "text/plain": [
              "              Style    Price  Rating  ... Pattern Type Recommendation      sum\n",
              "Dress_ID                              ...                                     \n",
              "1006032852     Sexy      Low     4.6  ...       animal              1  56193.0\n",
              "1212192089   Casual      Low     0.0  ...       animal              0  40519.0\n",
              "1190380701  vintage     High     0.0  ...        print              0    162.0\n",
              "966005983     Brief  Average     4.6  ...        print              1  28986.0\n",
              "876339541      cute      Low     4.5  ...          dot              0  33617.0\n",
              "\n",
              "[5 rows x 14 columns]"
            ]
          },
          "metadata": {
            "tags": []
          },
          "execution_count": 37
        }
      ]
    },
    {
      "cell_type": "markdown",
      "metadata": {
        "id": "oFLAiTzawmoL"
      },
      "source": [
        "###Cleaning features with duplicate classes"
      ]
    },
    {
      "cell_type": "code",
      "metadata": {
        "id": "dkd3UbEJpLj4"
      },
      "source": [
        "ad = ad.replace('sexy', 'Sexy', regex=True) # All data frame\n",
        "ad = ad.replace('low', 'Low', regex=True) # All data frame\n",
        "ad = ad.replace('high', 'High', regex=True) # All data frame\n",
        "ad = ad.replace('s', 'S', regex=True) # All data frame\n",
        "ad = ad.replace('small', 'S', regex=True) # All data frame\n",
        "ad = ad.replace('Small', 'S', regex=True) # All data frame\n",
        "ad = ad.replace('Automn', 'Autumn', regex=True) # All data frame\n",
        "ad = ad.replace('modal', 'model', regex=True) # All data frame\n",
        "ad = ad.replace('leapord', 'leopard', regex=True) # All data frame\n",
        "ad = ad.replace('sleevless', 'sleeveless', regex=True)\n",
        "ad = ad.replace('sleeevless', 'sleeveless', regex=True)\n",
        "ad = ad.replace('sleveless', 'sleeveless', regex=True)\n",
        "ad = ad.replace( 'threequater' ,  'threequarter', regex=True)\n",
        "ad = ad.replace('threequater', 'threequarter', regex=True)\n",
        "ad = ad.replace('thressqatar', 'threequarter', regex=True)\n",
        "ad = ad.replace('urndowncollor', 'turndowncollor', regex=True)\n",
        "ad = ad.replace('capsleeves', 'cap-sleeves', regex=True)\n",
        "ad = ad.replace('half', 'halfsleeve', regex=True)\n",
        "ad = ad.replace( 'halfsleevesleeve' ,  'halfsleeve', regex=True)\n",
        "ad = ad.replace('halfsleevesleeve', 'halfsleeve', regex=True)\n",
        "ad = ad.replace('tturndowncollor', 'turndowncollor', regex=True)\n",
        "ad = ad.replace( 'sattin' ,  'satin' , regex=True)\n",
        "ad = ad.replace('sattin', 'satin', regex=True)\n",
        "ad = ad.replace('wollen', 'woolen', regex=True)\n",
        "ad = ad.replace('knitting', 'knitted', regex=True)\n",
        "ad = ad.replace('shiffon', 'chiffon', regex=True)"
      ],
      "execution_count": 38,
      "outputs": []
    },
    {
      "cell_type": "markdown",
      "metadata": {
        "id": "5RkE4imGw18N"
      },
      "source": [
        "###Filling NULL Values"
      ]
    },
    {
      "cell_type": "code",
      "metadata": {
        "id": "RBMxxH8apbZr"
      },
      "source": [
        "ad = ad.fillna({\"waiseline\": \"natural\"})\n",
        "ad = ad.fillna({\"Material\": \"cotton\"})\n",
        "ad = ad.fillna({\"FabricType\": \"chiffon\"})\n",
        "ad = ad.fillna({\"Decoration\": \"lace\"})\n",
        "ad = ad.fillna({\"Pattern Type\": \"solid\"})\n",
        "ad = ad.fillna({\"Price\": \"Average\"})\n",
        "ad = ad.fillna({\"Season\": \"Summer\"})\n",
        "ad = ad.fillna({\"NeckLine\": \"o-neck\"})\n",
        "ad = ad.fillna({\"SleeveLength\": \"sleevless\"})"
      ],
      "execution_count": 39,
      "outputs": []
    },
    {
      "cell_type": "code",
      "metadata": {
        "colab": {
          "base_uri": "https://localhost:8080/"
        },
        "id": "fCevsxVQpeGu",
        "outputId": "9658d4fc-e80f-4d17-c678-62fd94965780"
      },
      "source": [
        "is_NaN = ad.isnull()\n",
        "row_has_NaN = is_NaN.any(axis=1)\n",
        "rows_with_NaN = ad[row_has_NaN]\n",
        "print(rows_with_NaN)"
      ],
      "execution_count": 40,
      "outputs": [
        {
          "output_type": "stream",
          "text": [
            "Empty DataFrame\n",
            "Columns: [Style, Price, Rating, Size, Season, NeckLine, SleeveLength, waiseline, Material, FabricType, Decoration, Pattern Type, Recommendation, sum]\n",
            "Index: []\n"
          ],
          "name": "stdout"
        }
      ]
    },
    {
      "cell_type": "code",
      "metadata": {
        "colab": {
          "base_uri": "https://localhost:8080/",
          "height": 234
        },
        "id": "keZdWB55ph9l",
        "outputId": "be7cdc2e-f8d5-4e6a-c83f-53a91aca457c"
      },
      "source": [
        "ad.head()"
      ],
      "execution_count": 41,
      "outputs": [
        {
          "output_type": "execute_result",
          "data": {
            "text/html": [
              "<div>\n",
              "<style scoped>\n",
              "    .dataframe tbody tr th:only-of-type {\n",
              "        vertical-align: middle;\n",
              "    }\n",
              "\n",
              "    .dataframe tbody tr th {\n",
              "        vertical-align: top;\n",
              "    }\n",
              "\n",
              "    .dataframe thead th {\n",
              "        text-align: right;\n",
              "    }\n",
              "</style>\n",
              "<table border=\"1\" class=\"dataframe\">\n",
              "  <thead>\n",
              "    <tr style=\"text-align: right;\">\n",
              "      <th></th>\n",
              "      <th>Style</th>\n",
              "      <th>Price</th>\n",
              "      <th>Rating</th>\n",
              "      <th>Size</th>\n",
              "      <th>Season</th>\n",
              "      <th>NeckLine</th>\n",
              "      <th>SleeveLength</th>\n",
              "      <th>waiseline</th>\n",
              "      <th>Material</th>\n",
              "      <th>FabricType</th>\n",
              "      <th>Decoration</th>\n",
              "      <th>Pattern Type</th>\n",
              "      <th>Recommendation</th>\n",
              "      <th>sum</th>\n",
              "    </tr>\n",
              "    <tr>\n",
              "      <th>Dress_ID</th>\n",
              "      <th></th>\n",
              "      <th></th>\n",
              "      <th></th>\n",
              "      <th></th>\n",
              "      <th></th>\n",
              "      <th></th>\n",
              "      <th></th>\n",
              "      <th></th>\n",
              "      <th></th>\n",
              "      <th></th>\n",
              "      <th></th>\n",
              "      <th></th>\n",
              "      <th></th>\n",
              "      <th></th>\n",
              "    </tr>\n",
              "  </thead>\n",
              "  <tbody>\n",
              "    <tr>\n",
              "      <th>1006032852</th>\n",
              "      <td>Sexy</td>\n",
              "      <td>Low</td>\n",
              "      <td>4.6</td>\n",
              "      <td>M</td>\n",
              "      <td>Summer</td>\n",
              "      <td>o-neck</td>\n",
              "      <td>SleevleSS</td>\n",
              "      <td>empire</td>\n",
              "      <td>cotton</td>\n",
              "      <td>chiffon</td>\n",
              "      <td>ruffleS</td>\n",
              "      <td>animal</td>\n",
              "      <td>1</td>\n",
              "      <td>56193.0</td>\n",
              "    </tr>\n",
              "    <tr>\n",
              "      <th>1212192089</th>\n",
              "      <td>CaSual</td>\n",
              "      <td>Low</td>\n",
              "      <td>0.0</td>\n",
              "      <td>L</td>\n",
              "      <td>Summer</td>\n",
              "      <td>o-neck</td>\n",
              "      <td>Petal</td>\n",
              "      <td>natural</td>\n",
              "      <td>microfiber</td>\n",
              "      <td>chiffon</td>\n",
              "      <td>ruffleS</td>\n",
              "      <td>animal</td>\n",
              "      <td>0</td>\n",
              "      <td>40519.0</td>\n",
              "    </tr>\n",
              "    <tr>\n",
              "      <th>1190380701</th>\n",
              "      <td>vintage</td>\n",
              "      <td>High</td>\n",
              "      <td>0.0</td>\n",
              "      <td>L</td>\n",
              "      <td>Autumn</td>\n",
              "      <td>o-neck</td>\n",
              "      <td>full</td>\n",
              "      <td>natural</td>\n",
              "      <td>polySter</td>\n",
              "      <td>chiffon</td>\n",
              "      <td>lace</td>\n",
              "      <td>print</td>\n",
              "      <td>0</td>\n",
              "      <td>162.0</td>\n",
              "    </tr>\n",
              "    <tr>\n",
              "      <th>966005983</th>\n",
              "      <td>Brief</td>\n",
              "      <td>Average</td>\n",
              "      <td>4.6</td>\n",
              "      <td>L</td>\n",
              "      <td>Spring</td>\n",
              "      <td>o-neck</td>\n",
              "      <td>full</td>\n",
              "      <td>natural</td>\n",
              "      <td>Silk</td>\n",
              "      <td>chiffon</td>\n",
              "      <td>embroidary</td>\n",
              "      <td>print</td>\n",
              "      <td>1</td>\n",
              "      <td>28986.0</td>\n",
              "    </tr>\n",
              "    <tr>\n",
              "      <th>876339541</th>\n",
              "      <td>cute</td>\n",
              "      <td>Low</td>\n",
              "      <td>4.5</td>\n",
              "      <td>M</td>\n",
              "      <td>Summer</td>\n",
              "      <td>o-neck</td>\n",
              "      <td>butterfly</td>\n",
              "      <td>natural</td>\n",
              "      <td>chiffonfabric</td>\n",
              "      <td>chiffon</td>\n",
              "      <td>bow</td>\n",
              "      <td>dot</td>\n",
              "      <td>0</td>\n",
              "      <td>33617.0</td>\n",
              "    </tr>\n",
              "  </tbody>\n",
              "</table>\n",
              "</div>"
            ],
            "text/plain": [
              "              Style    Price  Rating  ... Pattern Type Recommendation      sum\n",
              "Dress_ID                              ...                                     \n",
              "1006032852     Sexy      Low     4.6  ...       animal              1  56193.0\n",
              "1212192089   CaSual      Low     0.0  ...       animal              0  40519.0\n",
              "1190380701  vintage     High     0.0  ...        print              0    162.0\n",
              "966005983     Brief  Average     4.6  ...        print              1  28986.0\n",
              "876339541      cute      Low     4.5  ...          dot              0  33617.0\n",
              "\n",
              "[5 rows x 14 columns]"
            ]
          },
          "metadata": {
            "tags": []
          },
          "execution_count": 41
        }
      ]
    },
    {
      "cell_type": "markdown",
      "metadata": {
        "id": "iC8SLM-Cw7vT"
      },
      "source": [
        "##Label Encoding the categorical values"
      ]
    },
    {
      "cell_type": "code",
      "metadata": {
        "id": "ovVwH69opmFY"
      },
      "source": [
        "\"\"\"Label encoding\"\"\"\n",
        "# import labelencoder\n",
        "from sklearn.preprocessing import LabelEncoder\n",
        "# instantiate labelencoder object\\\n",
        "le = LabelEncoder()"
      ],
      "execution_count": 42,
      "outputs": []
    },
    {
      "cell_type": "code",
      "metadata": {
        "colab": {
          "base_uri": "https://localhost:8080/"
        },
        "id": "tRYZnTQ5ptCb",
        "outputId": "eda66c4f-dd9f-4536-fbc2-5d8f7d3486f9"
      },
      "source": [
        "# Get  columns whose data type is object i.e. string\n",
        "filteredColumns = ad.dtypes[ad.dtypes == np.object]\n",
        "# list of columns whose data type is object i.e. string\n",
        "listOfColumnNames = list(filteredColumns.index)\n",
        "print(listOfColumnNames)"
      ],
      "execution_count": 43,
      "outputs": [
        {
          "output_type": "stream",
          "text": [
            "['Style', 'Price', 'Size', 'Season', 'NeckLine', 'SleeveLength', 'waiseline', 'Material', 'FabricType', 'Decoration', 'Pattern Type']\n"
          ],
          "name": "stdout"
        }
      ]
    },
    {
      "cell_type": "code",
      "metadata": {
        "id": "xSbarO8ypu4z"
      },
      "source": [
        "label_encoders = {}\n",
        "for column in listOfColumnNames:\n",
        "  label_encoders[column] = le\n",
        "  ad[column] = label_encoders[column].fit_transform(ad[column]) "
      ],
      "execution_count": 44,
      "outputs": []
    },
    {
      "cell_type": "code",
      "metadata": {
        "colab": {
          "base_uri": "https://localhost:8080/",
          "height": 234
        },
        "id": "zsJIIyV9pxby",
        "outputId": "ce9b0a4b-8587-4dd9-bea9-040156971721"
      },
      "source": [
        "ad.head()"
      ],
      "execution_count": 45,
      "outputs": [
        {
          "output_type": "execute_result",
          "data": {
            "text/html": [
              "<div>\n",
              "<style scoped>\n",
              "    .dataframe tbody tr th:only-of-type {\n",
              "        vertical-align: middle;\n",
              "    }\n",
              "\n",
              "    .dataframe tbody tr th {\n",
              "        vertical-align: top;\n",
              "    }\n",
              "\n",
              "    .dataframe thead th {\n",
              "        text-align: right;\n",
              "    }\n",
              "</style>\n",
              "<table border=\"1\" class=\"dataframe\">\n",
              "  <thead>\n",
              "    <tr style=\"text-align: right;\">\n",
              "      <th></th>\n",
              "      <th>Style</th>\n",
              "      <th>Price</th>\n",
              "      <th>Rating</th>\n",
              "      <th>Size</th>\n",
              "      <th>Season</th>\n",
              "      <th>NeckLine</th>\n",
              "      <th>SleeveLength</th>\n",
              "      <th>waiseline</th>\n",
              "      <th>Material</th>\n",
              "      <th>FabricType</th>\n",
              "      <th>Decoration</th>\n",
              "      <th>Pattern Type</th>\n",
              "      <th>Recommendation</th>\n",
              "      <th>sum</th>\n",
              "    </tr>\n",
              "    <tr>\n",
              "      <th>Dress_ID</th>\n",
              "      <th></th>\n",
              "      <th></th>\n",
              "      <th></th>\n",
              "      <th></th>\n",
              "      <th></th>\n",
              "      <th></th>\n",
              "      <th></th>\n",
              "      <th></th>\n",
              "      <th></th>\n",
              "      <th></th>\n",
              "      <th></th>\n",
              "      <th></th>\n",
              "      <th></th>\n",
              "      <th></th>\n",
              "    </tr>\n",
              "  </thead>\n",
              "  <tbody>\n",
              "    <tr>\n",
              "      <th>1006032852</th>\n",
              "      <td>5</td>\n",
              "      <td>2</td>\n",
              "      <td>4.6</td>\n",
              "      <td>1</td>\n",
              "      <td>2</td>\n",
              "      <td>9</td>\n",
              "      <td>4</td>\n",
              "      <td>1</td>\n",
              "      <td>7</td>\n",
              "      <td>6</td>\n",
              "      <td>22</td>\n",
              "      <td>2</td>\n",
              "      <td>1</td>\n",
              "      <td>56193.0</td>\n",
              "    </tr>\n",
              "    <tr>\n",
              "      <th>1212192089</th>\n",
              "      <td>1</td>\n",
              "      <td>2</td>\n",
              "      <td>0.0</td>\n",
              "      <td>0</td>\n",
              "      <td>2</td>\n",
              "      <td>9</td>\n",
              "      <td>0</td>\n",
              "      <td>2</td>\n",
              "      <td>11</td>\n",
              "      <td>6</td>\n",
              "      <td>22</td>\n",
              "      <td>2</td>\n",
              "      <td>0</td>\n",
              "      <td>40519.0</td>\n",
              "    </tr>\n",
              "    <tr>\n",
              "      <th>1190380701</th>\n",
              "      <td>10</td>\n",
              "      <td>1</td>\n",
              "      <td>0.0</td>\n",
              "      <td>0</td>\n",
              "      <td>0</td>\n",
              "      <td>9</td>\n",
              "      <td>9</td>\n",
              "      <td>2</td>\n",
              "      <td>17</td>\n",
              "      <td>6</td>\n",
              "      <td>14</td>\n",
              "      <td>11</td>\n",
              "      <td>0</td>\n",
              "      <td>162.0</td>\n",
              "    </tr>\n",
              "    <tr>\n",
              "      <th>966005983</th>\n",
              "      <td>0</td>\n",
              "      <td>0</td>\n",
              "      <td>4.6</td>\n",
              "      <td>0</td>\n",
              "      <td>1</td>\n",
              "      <td>9</td>\n",
              "      <td>9</td>\n",
              "      <td>2</td>\n",
              "      <td>1</td>\n",
              "      <td>6</td>\n",
              "      <td>10</td>\n",
              "      <td>11</td>\n",
              "      <td>1</td>\n",
              "      <td>28986.0</td>\n",
              "    </tr>\n",
              "    <tr>\n",
              "      <th>876339541</th>\n",
              "      <td>7</td>\n",
              "      <td>2</td>\n",
              "      <td>4.5</td>\n",
              "      <td>1</td>\n",
              "      <td>2</td>\n",
              "      <td>9</td>\n",
              "      <td>6</td>\n",
              "      <td>2</td>\n",
              "      <td>6</td>\n",
              "      <td>6</td>\n",
              "      <td>5</td>\n",
              "      <td>4</td>\n",
              "      <td>0</td>\n",
              "      <td>33617.0</td>\n",
              "    </tr>\n",
              "  </tbody>\n",
              "</table>\n",
              "</div>"
            ],
            "text/plain": [
              "            Style  Price  Rating  ...  Pattern Type  Recommendation      sum\n",
              "Dress_ID                          ...                                       \n",
              "1006032852      5      2     4.6  ...             2               1  56193.0\n",
              "1212192089      1      2     0.0  ...             2               0  40519.0\n",
              "1190380701     10      1     0.0  ...            11               0    162.0\n",
              "966005983       0      0     4.6  ...            11               1  28986.0\n",
              "876339541       7      2     4.5  ...             4               0  33617.0\n",
              "\n",
              "[5 rows x 14 columns]"
            ]
          },
          "metadata": {
            "tags": []
          },
          "execution_count": 45
        }
      ]
    },
    {
      "cell_type": "markdown",
      "metadata": {
        "id": "kH7pqZgFxBAr"
      },
      "source": [
        "##Preparing test and train data "
      ]
    },
    {
      "cell_type": "code",
      "metadata": {
        "id": "hJkFClmsTpTD"
      },
      "source": [
        "y = ad['sum']"
      ],
      "execution_count": 46,
      "outputs": []
    },
    {
      "cell_type": "code",
      "metadata": {
        "id": "tuYnTbx-Tt_x"
      },
      "source": [
        "ad.drop(columns=['sum'],axis = 1, inplace = True)"
      ],
      "execution_count": 47,
      "outputs": []
    },
    {
      "cell_type": "code",
      "metadata": {
        "id": "cLtC6a-sT5m0"
      },
      "source": [
        "X = ad"
      ],
      "execution_count": 48,
      "outputs": []
    },
    {
      "cell_type": "code",
      "metadata": {
        "id": "uoIqft9FVpII"
      },
      "source": [
        "from sklearn.model_selection import train_test_split\n",
        "X_train, X_test, y_train, y_test = train_test_split(X, y, test_size=0.2, random_state=42)"
      ],
      "execution_count": 49,
      "outputs": []
    },
    {
      "cell_type": "markdown",
      "metadata": {
        "id": "uZvhyY5SxERp"
      },
      "source": [
        "##Applying Models"
      ]
    },
    {
      "cell_type": "markdown",
      "metadata": {
        "id": "yvj2j5rJxHmK"
      },
      "source": [
        "###Linear regression"
      ]
    },
    {
      "cell_type": "code",
      "metadata": {
        "colab": {
          "base_uri": "https://localhost:8080/"
        },
        "id": "TK1ShA3bp0W9",
        "outputId": "63ed5f00-3ebe-4efe-e71d-1138adc95b6f"
      },
      "source": [
        "\"\"\"Applying Linear regression\"\"\"\n",
        "from sklearn.linear_model import LinearRegression\n",
        "from sklearn.metrics import mean_absolute_error\n",
        "model = LinearRegression()\n",
        "model.fit(X_train,y_train)\n",
        "y_test_pred = model.predict(X_test)\n",
        "test_score = mean_absolute_error(y_test_pred,y_test)\n",
        "print('test MAE = ',test_score)"
      ],
      "execution_count": 50,
      "outputs": [
        {
          "output_type": "stream",
          "text": [
            "test MAE =  4493.055012374572\n"
          ],
          "name": "stdout"
        }
      ]
    },
    {
      "cell_type": "markdown",
      "metadata": {
        "id": "aZ_SiEc-xJ_t"
      },
      "source": [
        "###KNN regressor"
      ]
    },
    {
      "cell_type": "code",
      "metadata": {
        "id": "FoQXbaWtq_qh"
      },
      "source": [
        "from sklearn.neighbors import KNeighborsRegressor\n",
        "from sklearn.model_selection import GridSearchCV "
      ],
      "execution_count": 52,
      "outputs": []
    },
    {
      "cell_type": "code",
      "metadata": {
        "colab": {
          "base_uri": "https://localhost:8080/"
        },
        "id": "NycF0HJJvYTY",
        "outputId": "9f84b9e0-41be-4b62-d318-ca7b6f31c5d5"
      },
      "source": [
        "\"\"\"Applying KNN\"\"\"\n",
        "model =  KNeighborsRegressor()\n",
        "param_grid = {'n_neighbors': [1,3,5,7,9,11,13,15,17,19,21]}\n",
        "grid_search = GridSearchCV(estimator = model , param_grid = param_grid, cv = 5,scoring='neg_mean_absolute_error',return_train_score=True,n_jobs =-1,verbose = 3)\n",
        "grid_search.fit(X_train,y_train)"
      ],
      "execution_count": 53,
      "outputs": [
        {
          "output_type": "stream",
          "text": [
            "Fitting 5 folds for each of 11 candidates, totalling 55 fits\n"
          ],
          "name": "stdout"
        },
        {
          "output_type": "stream",
          "text": [
            "[Parallel(n_jobs=-1)]: Using backend LokyBackend with 2 concurrent workers.\n",
            "[Parallel(n_jobs=-1)]: Done  44 tasks      | elapsed:    1.6s\n",
            "[Parallel(n_jobs=-1)]: Done  55 out of  55 | elapsed:    1.7s finished\n"
          ],
          "name": "stderr"
        },
        {
          "output_type": "execute_result",
          "data": {
            "text/plain": [
              "GridSearchCV(cv=5, error_score=nan,\n",
              "             estimator=KNeighborsRegressor(algorithm='auto', leaf_size=30,\n",
              "                                           metric='minkowski',\n",
              "                                           metric_params=None, n_jobs=None,\n",
              "                                           n_neighbors=5, p=2,\n",
              "                                           weights='uniform'),\n",
              "             iid='deprecated', n_jobs=-1,\n",
              "             param_grid={'n_neighbors': [1, 3, 5, 7, 9, 11, 13, 15, 17, 19,\n",
              "                                         21]},\n",
              "             pre_dispatch='2*n_jobs', refit=True, return_train_score=True,\n",
              "             scoring='neg_mean_absolute_error', verbose=3)"
            ]
          },
          "metadata": {
            "tags": []
          },
          "execution_count": 53
        }
      ]
    },
    {
      "cell_type": "code",
      "metadata": {
        "colab": {
          "base_uri": "https://localhost:8080/"
        },
        "id": "XbogVTfzx6jS",
        "outputId": "8403d003-0663-47bb-9faa-f5848dcc29e5"
      },
      "source": [
        "\"\"\"Printing best params\"\"\"\n",
        "print('best parameter : ',grid_search.best_params_)\n"
      ],
      "execution_count": 54,
      "outputs": [
        {
          "output_type": "stream",
          "text": [
            "best parameter :  {'n_neighbors': 15}\n"
          ],
          "name": "stdout"
        }
      ]
    },
    {
      "cell_type": "code",
      "metadata": {
        "colab": {
          "base_uri": "https://localhost:8080/"
        },
        "id": "WW7-vABj25YM",
        "outputId": "342233ae-1ca9-4df1-83cb-e7d123fdcf7d"
      },
      "source": [
        "\"\"\"Applying KNN using best params\"\"\"\n",
        "model =  KNeighborsRegressor(n_neighbors=15)\n",
        "model.fit(X_train,y_train)\n",
        "y_test_pred = model.predict(X_test)\n",
        "test_score = mean_absolute_error(y_test_pred,y_test)\n",
        "print('test MAE = ',test_score)"
      ],
      "execution_count": 56,
      "outputs": [
        {
          "output_type": "stream",
          "text": [
            "test MAE =  5097.38080495356\n"
          ],
          "name": "stdout"
        }
      ]
    },
    {
      "cell_type": "markdown",
      "metadata": {
        "id": "nYPgrzEIxMbi"
      },
      "source": [
        "###Decision Tree regressor"
      ]
    },
    {
      "cell_type": "code",
      "metadata": {
        "id": "RQ6TbwxgrKG3"
      },
      "source": [
        "from sklearn.tree import DecisionTreeRegressor\n"
      ],
      "execution_count": 58,
      "outputs": []
    },
    {
      "cell_type": "code",
      "metadata": {
        "colab": {
          "base_uri": "https://localhost:8080/"
        },
        "id": "i5PtgTpE33Yi",
        "outputId": "27ba8765-9727-45eb-c6ef-e0c01964c8ae"
      },
      "source": [
        "\"\"\"Hypertuning Decsion tree regreesor\"\"\"\n",
        "model = DecisionTreeRegressor(random_state=5)\n",
        "params = {'max_depth': [1, 5, 10,20,30,40, 50], 'min_samples_split': [5, 10, 100, 500,1000]}\n",
        "grid_search = GridSearchCV(estimator = model , param_grid = params, cv = 3,scoring='neg_mean_absolute_error',return_train_score=True,verbose = 7,refit =True,n_jobs =-1 )\n",
        "grid_search.fit(X_train,y_train)"
      ],
      "execution_count": 59,
      "outputs": [
        {
          "output_type": "stream",
          "text": [
            "Fitting 3 folds for each of 35 candidates, totalling 105 fits\n"
          ],
          "name": "stdout"
        },
        {
          "output_type": "stream",
          "text": [
            "[Parallel(n_jobs=-1)]: Using backend LokyBackend with 2 concurrent workers.\n",
            "[Parallel(n_jobs=-1)]: Done   4 tasks      | elapsed:    0.0s\n",
            "[Parallel(n_jobs=-1)]: Done  87 tasks      | elapsed:    0.5s\n",
            "[Parallel(n_jobs=-1)]: Done 105 out of 105 | elapsed:    0.5s finished\n"
          ],
          "name": "stderr"
        },
        {
          "output_type": "execute_result",
          "data": {
            "text/plain": [
              "GridSearchCV(cv=3, error_score=nan,\n",
              "             estimator=DecisionTreeRegressor(ccp_alpha=0.0, criterion='mse',\n",
              "                                             max_depth=None, max_features=None,\n",
              "                                             max_leaf_nodes=None,\n",
              "                                             min_impurity_decrease=0.0,\n",
              "                                             min_impurity_split=None,\n",
              "                                             min_samples_leaf=1,\n",
              "                                             min_samples_split=2,\n",
              "                                             min_weight_fraction_leaf=0.0,\n",
              "                                             presort='deprecated',\n",
              "                                             random_state=5, splitter='best'),\n",
              "             iid='deprecated', n_jobs=-1,\n",
              "             param_grid={'max_depth': [1, 5, 10, 20, 30, 40, 50],\n",
              "                         'min_samples_split': [5, 10, 100, 500, 1000]},\n",
              "             pre_dispatch='2*n_jobs', refit=True, return_train_score=True,\n",
              "             scoring='neg_mean_absolute_error', verbose=7)"
            ]
          },
          "metadata": {
            "tags": []
          },
          "execution_count": 59
        }
      ]
    },
    {
      "cell_type": "code",
      "metadata": {
        "colab": {
          "base_uri": "https://localhost:8080/"
        },
        "id": "ViKw8xS86qf4",
        "outputId": "724672c2-e7eb-4a2c-8afc-dba3197bbf46"
      },
      "source": [
        "\"\"\"Printing best params\"\"\"\n",
        "\n",
        "print('best parameter : ',grid_search.best_params_)"
      ],
      "execution_count": 60,
      "outputs": [
        {
          "output_type": "stream",
          "text": [
            "best parameter :  {'max_depth': 5, 'min_samples_split': 100}\n"
          ],
          "name": "stdout"
        }
      ]
    },
    {
      "cell_type": "code",
      "metadata": {
        "colab": {
          "base_uri": "https://localhost:8080/"
        },
        "id": "H-kljwWn4aqK",
        "outputId": "0ca102b9-944e-4185-d73a-0bd47ce2a345"
      },
      "source": [
        "\"\"\"Applying model with best params\"\"\"\n",
        "model =  DecisionTreeRegressor(max_depth = 5 ,min_samples_split = 100 )\n",
        "model.fit(X_train,y_train)\n",
        "y_test_pred = model.predict(X_test)\n",
        "test_score = mean_absolute_error(y_test_pred,y_test)\n",
        "print('test MAE = ',test_score)"
      ],
      "execution_count": 61,
      "outputs": [
        {
          "output_type": "stream",
          "text": [
            "test MAE =  3873.7023361055644\n"
          ],
          "name": "stdout"
        }
      ]
    },
    {
      "cell_type": "markdown",
      "metadata": {
        "id": "zFZf7Vm9xPmn"
      },
      "source": [
        "###Random forest regressor"
      ]
    },
    {
      "cell_type": "code",
      "metadata": {
        "id": "Kp-s4Tmerodu"
      },
      "source": [
        "from sklearn.ensemble import ExtraTreesRegressor,RandomForestRegressor\n"
      ],
      "execution_count": 62,
      "outputs": []
    },
    {
      "cell_type": "code",
      "metadata": {
        "id": "-Eh2kDD94g22"
      },
      "source": [
        "\"\"\"Creating param grid\"\"\"\n",
        "#reference -> https://analyticsindiamag.com/guide-to-hyperparameters-tuning-using-gridsearchcv-and-randomizedsearchcv/\n",
        "from sklearn.model_selection import RandomizedSearchCV\n",
        "\n",
        "n_estimators = [int(x) for x in np.linspace(start = 5 , stop = 15, num = 10)] # returns 10 numbers \n",
        "\n",
        "max_features = ['auto', 'log2']\n",
        "\n",
        "max_depth = [int(x) for x in np.linspace(5, 10, num = 2)] \n",
        "\n",
        "max_depth.append(None)\n",
        "\n",
        "bootstrap = [True, False]\n",
        "\n",
        "r_grid = {'n_estimators': n_estimators,\n",
        "\n",
        "               'max_features': max_features,\n",
        "\n",
        "               'max_depth': max_depth,\n",
        "\n",
        "               'bootstrap': bootstrap}\n",
        "\n"
      ],
      "execution_count": 63,
      "outputs": []
    },
    {
      "cell_type": "code",
      "metadata": {
        "colab": {
          "base_uri": "https://localhost:8080/"
        },
        "id": "dTmd_r2Y75xQ",
        "outputId": "2f333f14-a35b-4972-8106-616852f6b5f7"
      },
      "source": [
        "\"\"\"\"Hypertuning Random forest \"\"\"\n",
        "from sklearn.model_selection import RandomizedSearchCV\n",
        "rfr = RandomForestRegressor(random_state = 1)\n",
        "rfr_random = RandomizedSearchCV(estimator=rfr, param_distributions=r_grid, n_iter = 20, scoring='neg_mean_absolute_error', cv = 3, verbose=2, random_state=42, n_jobs=-1, return_train_score=True)\n",
        "\n",
        "rfr_random.fit(X_train, y_train)"
      ],
      "execution_count": 64,
      "outputs": [
        {
          "output_type": "stream",
          "text": [
            "Fitting 3 folds for each of 20 candidates, totalling 60 fits\n"
          ],
          "name": "stdout"
        },
        {
          "output_type": "stream",
          "text": [
            "[Parallel(n_jobs=-1)]: Using backend LokyBackend with 2 concurrent workers.\n",
            "[Parallel(n_jobs=-1)]: Done  60 out of  60 | elapsed:    1.1s finished\n"
          ],
          "name": "stderr"
        },
        {
          "output_type": "execute_result",
          "data": {
            "text/plain": [
              "RandomizedSearchCV(cv=3, error_score=nan,\n",
              "                   estimator=RandomForestRegressor(bootstrap=True,\n",
              "                                                   ccp_alpha=0.0,\n",
              "                                                   criterion='mse',\n",
              "                                                   max_depth=None,\n",
              "                                                   max_features='auto',\n",
              "                                                   max_leaf_nodes=None,\n",
              "                                                   max_samples=None,\n",
              "                                                   min_impurity_decrease=0.0,\n",
              "                                                   min_impurity_split=None,\n",
              "                                                   min_samples_leaf=1,\n",
              "                                                   min_samples_split=2,\n",
              "                                                   min_weight_fraction_leaf=0.0,\n",
              "                                                   n_estimators=100,\n",
              "                                                   n_jobs=None, oob_score=False,\n",
              "                                                   random_state=1, verbose=0,\n",
              "                                                   warm_start=False),\n",
              "                   iid='deprecated', n_iter=20, n_jobs=-1,\n",
              "                   param_distributions={'bootstrap': [True, False],\n",
              "                                        'max_depth': [5, 10, None],\n",
              "                                        'max_features': ['auto', 'log2'],\n",
              "                                        'n_estimators': [5, 6, 7, 8, 9, 10, 11,\n",
              "                                                         12, 13, 15]},\n",
              "                   pre_dispatch='2*n_jobs', random_state=42, refit=True,\n",
              "                   return_train_score=True, scoring='neg_mean_absolute_error',\n",
              "                   verbose=2)"
            ]
          },
          "metadata": {
            "tags": []
          },
          "execution_count": 64
        }
      ]
    },
    {
      "cell_type": "code",
      "metadata": {
        "colab": {
          "base_uri": "https://localhost:8080/"
        },
        "id": "Yc1JSJhHhxRa",
        "outputId": "17f16277-a456-4276-8608-b0536d6d363a"
      },
      "source": [
        "\"\"\"Printing best params\"\"\"\n",
        "print(rfr_random.best_params_)"
      ],
      "execution_count": 65,
      "outputs": [
        {
          "output_type": "stream",
          "text": [
            "{'n_estimators': 6, 'max_features': 'log2', 'max_depth': 5, 'bootstrap': True}\n"
          ],
          "name": "stdout"
        }
      ]
    },
    {
      "cell_type": "code",
      "metadata": {
        "id": "ySjrqlBM-GQ3",
        "colab": {
          "base_uri": "https://localhost:8080/"
        },
        "outputId": "d1040942-0426-495a-c4be-04737ec95eb2"
      },
      "source": [
        "\"\"\"Training with best params\"\"\"\n",
        "model = RandomForestRegressor(n_estimators = 6,n_jobs = -1,max_features = 'log2' ,max_depth = 5,bootstrap = True)\n",
        "model.fit(X_train,y_train)\n",
        "y_test_pred = model.predict(X_test)\n",
        "test_score = mean_absolute_error(y_test_pred,y_test)\n",
        "print('test MAE = ',test_score)"
      ],
      "execution_count": 66,
      "outputs": [
        {
          "output_type": "stream",
          "text": [
            "test MAE =  4531.985898512398\n"
          ],
          "name": "stdout"
        }
      ]
    },
    {
      "cell_type": "markdown",
      "metadata": {
        "id": "5dKJN3DVxTr4"
      },
      "source": [
        "##ADAboost regressor"
      ]
    },
    {
      "cell_type": "code",
      "metadata": {
        "id": "lLretqzLEg6V"
      },
      "source": [
        "from sklearn.model_selection import GridSearchCV\n",
        "from sklearn.model_selection import train_test_split\n",
        "from sklearn.ensemble import AdaBoostRegressor\n",
        "from sklearn.metrics import mean_squared_error, make_scorer, r2_score\n",
        "import matplotlib.pyplot as plt"
      ],
      "execution_count": 67,
      "outputs": []
    },
    {
      "cell_type": "code",
      "metadata": {
        "id": "cZZxLbKksUBy",
        "colab": {
          "base_uri": "https://localhost:8080/"
        },
        "outputId": "78580bac-b5cd-42d3-9ae9-5a6c69135982"
      },
      "source": [
        "params = {\n",
        " 'n_estimators': [50, 100],\n",
        " 'learning_rate' : [0.01, 0.05, 0.1, 0.5],\n",
        " 'loss' : ['linear', 'square', 'exponential']\n",
        " }\n",
        "abreg = AdaBoostRegressor()\n",
        "gridsearch=GridSearchCV(abreg, params, cv=5, return_train_score=True)\n",
        "gridsearch.fit(X_train, y_train)\n"
      ],
      "execution_count": 68,
      "outputs": [
        {
          "output_type": "execute_result",
          "data": {
            "text/plain": [
              "GridSearchCV(cv=5, error_score=nan,\n",
              "             estimator=AdaBoostRegressor(base_estimator=None, learning_rate=1.0,\n",
              "                                         loss='linear', n_estimators=50,\n",
              "                                         random_state=None),\n",
              "             iid='deprecated', n_jobs=None,\n",
              "             param_grid={'learning_rate': [0.01, 0.05, 0.1, 0.5],\n",
              "                         'loss': ['linear', 'square', 'exponential'],\n",
              "                         'n_estimators': [50, 100]},\n",
              "             pre_dispatch='2*n_jobs', refit=True, return_train_score=True,\n",
              "             scoring=None, verbose=0)"
            ]
          },
          "metadata": {
            "tags": []
          },
          "execution_count": 68
        }
      ]
    },
    {
      "cell_type": "code",
      "metadata": {
        "colab": {
          "base_uri": "https://localhost:8080/"
        },
        "id": "2DyB_92D-saB",
        "outputId": "4e0d5501-514c-4c98-a318-3b525236a8e2"
      },
      "source": [
        "gridsearch.best_params_"
      ],
      "execution_count": 69,
      "outputs": [
        {
          "output_type": "execute_result",
          "data": {
            "text/plain": [
              "{'learning_rate': 0.01, 'loss': 'linear', 'n_estimators': 50}"
            ]
          },
          "metadata": {
            "tags": []
          },
          "execution_count": 69
        }
      ]
    },
    {
      "cell_type": "code",
      "metadata": {
        "colab": {
          "base_uri": "https://localhost:8080/"
        },
        "id": "EosBMyZ1-3hn",
        "outputId": "16bf2023-636d-44e6-f34f-21b21e5161b0"
      },
      "source": [
        "model = AdaBoostRegressor(learning_rate= 0.01 ,loss='linear',n_estimators=50)\n",
        "model.fit(X_train,y_train)"
      ],
      "execution_count": 70,
      "outputs": [
        {
          "output_type": "execute_result",
          "data": {
            "text/plain": [
              "AdaBoostRegressor(base_estimator=None, learning_rate=0.01, loss='linear',\n",
              "                  n_estimators=50, random_state=None)"
            ]
          },
          "metadata": {
            "tags": []
          },
          "execution_count": 70
        }
      ]
    },
    {
      "cell_type": "code",
      "metadata": {
        "colab": {
          "base_uri": "https://localhost:8080/"
        },
        "id": "_l2Q3dA0sgRv",
        "outputId": "d83f568b-74c4-4ea6-a0b7-4c9a9c58a508"
      },
      "source": [
        "y_test_pred = model.predict(X_test)\n",
        "test_score = mean_absolute_error(y_test_pred,y_test)\n",
        "print('test MAE = ',test_score)"
      ],
      "execution_count": 71,
      "outputs": [
        {
          "output_type": "stream",
          "text": [
            "test MAE =  4089.898435576284\n"
          ],
          "name": "stdout"
        }
      ]
    },
    {
      "cell_type": "code",
      "metadata": {
        "id": "h9dAWH6ksizz"
      },
      "source": [
        ""
      ],
      "execution_count": null,
      "outputs": []
    },
    {
      "cell_type": "markdown",
      "metadata": {
        "id": "bTTZMiAzxY8B"
      },
      "source": [
        "##Applying the best model"
      ]
    },
    {
      "cell_type": "code",
      "metadata": {
        "colab": {
          "base_uri": "https://localhost:8080/"
        },
        "id": "JDznj0YHtaDX",
        "outputId": "0255357b-6e4c-41be-dd63-572ddb993711"
      },
      "source": [
        "\"\"\"Applying model with best params\"\"\"\n",
        "model =  DecisionTreeRegressor(max_depth = 5 ,min_samples_split = 100 )\n",
        "model.fit(X_train,y_train)\n",
        "y_test_pred = model.predict(X_test)\n",
        "test_score = mean_absolute_error(y_test_pred,y_test)\n",
        "print('test MAE = ',test_score)"
      ],
      "execution_count": 72,
      "outputs": [
        {
          "output_type": "stream",
          "text": [
            "test MAE =  3873.7023361055653\n"
          ],
          "name": "stdout"
        }
      ]
    },
    {
      "cell_type": "markdown",
      "metadata": {
        "id": "VMF23h35xckH"
      },
      "source": [
        "##Calculating Feature Importances"
      ]
    },
    {
      "cell_type": "code",
      "metadata": {
        "colab": {
          "base_uri": "https://localhost:8080/",
          "height": 729
        },
        "id": "LwAnB0xitahq",
        "outputId": "361f8ea1-e912-43cd-b64a-c1f515b1c107"
      },
      "source": [
        "features = ad.columns\n",
        "importances = model.feature_importances_\n",
        "indices = (np.argsort(importances))[-100:]\n",
        "plt.figure(figsize=(10,12))\n",
        "plt.title('Feature Importances')\n",
        "plt.barh(range(len(indices)), importances[indices], color='r', align='center')\n",
        "plt.yticks(range(len(indices)), [features[i] for i in indices])\n",
        "plt.xlabel('Relative Importance')\n",
        "plt.show()"
      ],
      "execution_count": 77,
      "outputs": [
        {
          "output_type": "display_data",
          "data": {
            "image/png": "[encoded data removed]",
            "text/plain": [
              "<Figure size 720x864 with 1 Axes>"
            ]
          },
          "metadata": {
            "tags": [],
            "needs_background": "light"
          }
        }
      ]
    },
    {
      "cell_type": "markdown",
      "metadata": {
        "id": "1wdA-OChxg3R"
      },
      "source": [
        "###OBSERVATIONS: - \n",
        "1. We can clearly see that Style of the dress has more influence than the price of the dress on the sales of the dress.\n",
        "\n",
        "2. The leading factors which affect the sales of the dress are Rating , SleeveLength , Season , Style and Fabric Type\n",
        "3.The rating of the dress has the maximum influence on total sales ."
      ]
    }
  ]
}